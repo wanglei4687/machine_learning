{
 "cells": [
  {
   "cell_type": "markdown",
   "metadata": {},
   "source": [
    "## Windows WSL2"
   ]
  },
  {
   "cell_type": "code",
   "execution_count": 6,
   "metadata": {},
   "outputs": [],
   "source": [
    "import torch"
   ]
  },
  {
   "cell_type": "markdown",
   "metadata": {},
   "source": [
    "## Check device"
   ]
  },
  {
   "cell_type": "code",
   "execution_count": 7,
   "metadata": {},
   "outputs": [
    {
     "name": "stdout",
     "output_type": "stream",
     "text": [
      "Device Count:    1\n",
      "Using device:    NVIDIA GeForce RTX 4080\n",
      "using device ID: 0\n"
     ]
    }
   ],
   "source": [
    "global deviceID\n",
    "\n",
    "device = torch.device('cuda' if torch.cuda.is_available() else 'cpu')\n",
    "\n",
    "if device.type == 'cuda':\n",
    "    deviceCount = torch.cuda.device_count()\n",
    "    # using default gpu 0\n",
    "    if deviceCount == 1: \n",
    "        deviceID = 0\n",
    "        print('Device Count:   ', deviceCount)\n",
    "        print('Using device:   ', torch.cuda.get_device_name(deviceID))\n",
    "        print(\"using device ID:\", deviceID)"
   ]
  },
  {
   "cell_type": "markdown",
   "metadata": {},
   "source": [
    "## Show device info"
   ]
  },
  {
   "cell_type": "code",
   "execution_count": 8,
   "metadata": {},
   "outputs": [
    {
     "name": "stdout",
     "output_type": "stream",
     "text": [
      "Memory Usage: \n",
      "Allocated:  0.0 GB\n",
      "Cached:     0.0 GB\n"
     ]
    }
   ],
   "source": [
    "print('Memory Usage: ')\n",
    "print('Allocated: ', round(torch.cuda.memory_allocated(deviceID)/1024**3, 1), 'GB')\n",
    "print('Cached:    ', round(torch.cuda.memory_reserved(deviceID)/1024**3, 1), 'GB')"
   ]
  },
  {
   "cell_type": "code",
   "execution_count": 9,
   "metadata": {},
   "outputs": [
    {
     "name": "stdout",
     "output_type": "stream",
     "text": [
      "Free GPU Memory:   14.3 GB\n",
      "Total GPU Memory:  16.0 GB\n"
     ]
    }
   ],
   "source": [
    "mmInfo = torch.cuda.mem_get_info(deviceID)\n",
    "\n",
    "print('Free GPU Memory:  ', round(mmInfo[0]/1024**3, 1), 'GB')\n",
    "\n",
    "print('Total GPU Memory: ', round(mmInfo[1]/1024**3, 1), 'GB')"
   ]
  },
  {
   "cell_type": "code",
   "execution_count": 10,
   "metadata": {},
   "outputs": [
    {
     "name": "stdout",
     "output_type": "stream",
     "text": [
      "Device Info:   _CudaDeviceProperties(name='NVIDIA GeForce RTX 4080', major=8, minor=9, total_memory=16375MB, multi_processor_count=76)\n"
     ]
    }
   ],
   "source": [
    "print(\"Device Info:  \", torch.cuda.get_device_properties(deviceID))"
   ]
  }
 ],
 "metadata": {
  "kernelspec": {
   "display_name": "base",
   "language": "python",
   "name": "python3"
  },
  "language_info": {
   "codemirror_mode": {
    "name": "ipython",
    "version": 3
   },
   "file_extension": ".py",
   "mimetype": "text/x-python",
   "name": "python",
   "nbconvert_exporter": "python",
   "pygments_lexer": "ipython3",
   "version": "3.11.4"
  }
 },
 "nbformat": 4,
 "nbformat_minor": 2
}
