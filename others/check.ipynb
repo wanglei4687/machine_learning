{
 "cells": [
  {
   "cell_type": "markdown",
   "metadata": {},
   "source": [
    "## Check Environment"
   ]
  },
  {
   "cell_type": "markdown",
   "metadata": {},
   "source": [
    "### Install Pytorch\n",
    "\n",
    "```shell\n",
    "pip3 install torch torchvision torchaudio --index-url https://download.pytorch.org/whl/cu121\n",
    "```"
   ]
  },
  {
   "cell_type": "code",
   "execution_count": 1,
   "metadata": {},
   "outputs": [],
   "source": [
    "import torch"
   ]
  },
  {
   "cell_type": "code",
   "execution_count": 2,
   "metadata": {},
   "outputs": [],
   "source": [
    "import numpy "
   ]
  },
  {
   "cell_type": "code",
   "execution_count": 3,
   "metadata": {},
   "outputs": [],
   "source": [
    "import pandas"
   ]
  },
  {
   "cell_type": "markdown",
   "metadata": {},
   "source": [
    "## Check device"
   ]
  },
  {
   "cell_type": "code",
   "execution_count": 15,
   "metadata": {},
   "outputs": [
    {
     "name": "stdout",
     "output_type": "stream",
     "text": [
      "ML Using CPU\n"
     ]
    }
   ],
   "source": [
    "global deviceID\n",
    "\n",
    "device = torch.device('cuda' if torch.cuda.is_available() else 'cpu')\n",
    "\n",
    "if device.type == 'cuda':\n",
    "    deviceCount = torch.cuda.device_count()\n",
    "    # using default gpu 0\n",
    "    if deviceCount == 1: \n",
    "        deviceID = 0\n",
    "        print('Device Count:   ', deviceCount)\n",
    "        print('Using device:   ', torch.cuda.get_device_name(deviceID))\n",
    "        print(\"using device ID:\", deviceID)\n",
    "\n",
    "        print('Memory Usage: ') \n",
    "        print('Allocated: ', round(torch.cuda.memory_allocated(deviceID)/1024**3, 1), 'GB')\n",
    "        print('Cached:    ', round(torch.cuda.memory_reserved(deviceID)/1024**3, 1), 'GB')\n",
    "\n",
    "        mmInfo = torch.cuda.mem_get_info(deviceID)\n",
    "        print('Free GPU Memory:  ', round(mmInfo[0]/1024**3, 1), 'GB')\n",
    "        print('Total GPU Memory: ', round(mmInfo[1]/1024**3, 1), 'GB')\n",
    "\n",
    "        print(\"Device Info:  \", torch.cuda.get_device_properties(deviceID))\n",
    "elif device.type == 'cpu':\n",
    "    print(\"ML Using CPU\")"
   ]
  }
 ],
 "metadata": {
  "kernelspec": {
   "display_name": "base",
   "language": "python",
   "name": "python3"
  },
  "language_info": {
   "codemirror_mode": {
    "name": "ipython",
    "version": 3
   },
   "file_extension": ".py",
   "mimetype": "text/x-python",
   "name": "python",
   "nbconvert_exporter": "python",
   "pygments_lexer": "ipython3",
   "version": "3.12.3"
  }
 },
 "nbformat": 4,
 "nbformat_minor": 2
}
